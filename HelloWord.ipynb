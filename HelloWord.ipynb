{
 "cells": [
  {
   "cell_type": "code",
   "execution_count": 1,
   "id": "5d32871a-ad8c-4d35-9aa2-64250c02320e",
   "metadata": {},
   "outputs": [
    {
     "name": "stdout",
     "output_type": "stream",
     "text": [
      "Hello, world!\n"
     ]
    }
   ],
   "source": [
    "print(\"Hello, world!\")"
   ]
  },
  {
   "cell_type": "markdown",
   "id": "35d86170-b5b2-4f40-8b4e-f9bf9788c24f",
   "metadata": {},
   "source": [
    "# My First Markdown Heading"
   ]
  },
  {
   "cell_type": "markdown",
   "id": "36eb5160-a4c2-4515-bafd-accf24926362",
   "metadata": {},
   "source": [
    "## My Second Markdown Heading"
   ]
  },
  {
   "cell_type": "markdown",
   "id": "a6f1e067-6f2b-4c7b-8140-d74ee8f364fe",
   "metadata": {},
   "source": [
    "This is some **bold** text"
   ]
  },
  {
   "cell_type": "markdown",
   "id": "55003236-977e-471c-ab90-34c88dbc49d1",
   "metadata": {},
   "source": [
    "1. First item\n",
    "2. Second item\n",
    "3. Third item"
   ]
  },
  {
   "cell_type": "code",
   "execution_count": 9,
   "id": "7c8be062-d5d0-418a-90c4-4f7f01b4e2eb",
   "metadata": {},
   "outputs": [],
   "source": [
    "my_var = 5"
   ]
  },
  {
   "cell_type": "code",
   "execution_count": 11,
   "id": "e52f383d-b72b-4032-a76e-941ca9c76ff0",
   "metadata": {},
   "outputs": [
    {
     "name": "stdout",
     "output_type": "stream",
     "text": [
      "10\n"
     ]
    }
   ],
   "source": [
    "result = my_var * 2 \n",
    "print(result)"
   ]
  },
  {
   "cell_type": "code",
   "execution_count": null,
   "id": "64c5f6cf-e892-45d9-840d-1c37d1e96f7e",
   "metadata": {},
   "outputs": [],
   "source": [
    "print"
   ]
  }
 ],
 "metadata": {
  "kernelspec": {
   "display_name": "Python 3 (ipykernel)",
   "language": "python",
   "name": "python3"
  },
  "language_info": {
   "codemirror_mode": {
    "name": "ipython",
    "version": 3
   },
   "file_extension": ".py",
   "mimetype": "text/x-python",
   "name": "python",
   "nbconvert_exporter": "python",
   "pygments_lexer": "ipython3",
   "version": "3.10.9"
  }
 },
 "nbformat": 4,
 "nbformat_minor": 5
}
